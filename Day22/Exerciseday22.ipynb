{
 "cells": [
  {
   "cell_type": "code",
   "execution_count": 1,
   "metadata": {},
   "outputs": [
    {
     "name": "stdout",
     "output_type": "stream",
     "text": [
      "Data has been scraped and saved to scraped_data.json\n"
     ]
    }
   ],
   "source": [
    "#Scrape the following website and store the data as json file(url = 'http://www.bu.edu/president/boston-university-facts-stats/').\n",
    "import requests\n",
    "from bs4 import BeautifulSoup\n",
    "import json\n",
    "\n",
    "url = 'http://www.bu.edu/president/boston-university-facts-stats/'\n",
    "\n",
    "# Send a GET request to the URL\n",
    "response = requests.get(url)\n",
    "\n",
    "# Check if the request was successful (status code 200)\n",
    "if response.status_code == 200:\n",
    "    # Parse the HTML content using BeautifulSoup\n",
    "    soup = BeautifulSoup(response.text, 'html.parser')\n",
    "\n",
    "    # Extract the relevant information from the HTML\n",
    "    # (modify this part based on the structure of the website)\n",
    "    data_to_extract = {\n",
    "        'title': soup.title.text,\n",
    "        'paragraphs': [p.text.strip() for p in soup.find_all('p')]\n",
    "        \n",
    "    }\n",
    "\n",
    "    # Define the filename for the JSON file\n",
    "    json_filename = \"scraped_data.json\"\n",
    "\n",
    "    # Save the extracted data as JSON\n",
    "    with open(json_filename, 'w', encoding='utf-8') as json_file:\n",
    "        json.dump(data_to_extract, json_file, ensure_ascii=False, indent=4)\n",
    "\n",
    "    print(f\"Data has been scraped and saved to {json_filename}\")\n",
    "else:\n",
    "    print(f\"Failed to retrieve the page. Status code: {response.status_code}\")\n"
   ]
  },
  {
   "cell_type": "code",
   "execution_count": 2,
   "metadata": {},
   "outputs": [
    {
     "name": "stdout",
     "output_type": "stream",
     "text": [
      "Failed to retrieve the page. Status code: 404\n"
     ]
    }
   ],
   "source": [
    "#Extract the table in this url (https://archive.ics.uci.edu/ml/datasets.php) and change it to a json file\n",
    "\n",
    "import requests\n",
    "from bs4 import BeautifulSoup\n",
    "import json\n",
    "\n",
    "url = 'https://archive.ics.uci.edu/ml/datasets.php'\n",
    "\n",
    "# Send a GET request to the URL\n",
    "response = requests.get(url)\n",
    "\n",
    "# Check if the request was successful (status code 200)\n",
    "if response.status_code == 200:\n",
    "    # Parse the HTML content using BeautifulSoup\n",
    "    soup = BeautifulSoup(response.text, 'html.parser')\n",
    "\n",
    "    # Find the table in the HTML (modify this part based on the actual HTML structure)\n",
    "    table = soup.find('table')\n",
    "\n",
    "    # Extract the table data and convert it to a list of lists\n",
    "    table_data = []\n",
    "    for row in table.find_all('tr'):\n",
    "        row_data = [cell.text.strip() for cell in row.find_all(['td', 'th'])]\n",
    "        table_data.append(row_data)\n",
    "\n",
    "    # Define the filename for the JSON file\n",
    "    json_filename = \"table_data.json\"\n",
    "\n",
    "    # Save the table data as JSON\n",
    "    with open(json_filename, 'w', encoding='utf-8') as json_file:\n",
    "        json.dump(table_data, json_file, ensure_ascii=False, indent=4)\n",
    "\n",
    "    print(f\"Table data has been extracted and saved to {json_filename}\")\n",
    "else:\n",
    "    print(f\"Failed to retrieve the page. Status code: {response.status_code}\")\n",
    "\n"
   ]
  },
  {
   "cell_type": "code",
   "execution_count": 3,
   "metadata": {},
   "outputs": [
    {
     "name": "stdout",
     "output_type": "stream",
     "text": [
      "Data has been scraped and saved to presidents_data.json\n"
     ]
    }
   ],
   "source": [
    "import requests\n",
    "from bs4 import BeautifulSoup\n",
    "import json\n",
    "\n",
    "url = 'https://en.wikipedia.org/wiki/List_of_presidents_of_the_United_States'\n",
    "\n",
    "# Send a GET request to the URL\n",
    "response = requests.get(url)\n",
    "\n",
    "# Check if the request was successful (status code 200)\n",
    "if response.status_code == 200:\n",
    "    # Parse the HTML content using BeautifulSoup\n",
    "    soup = BeautifulSoup(response.text, 'html.parser')\n",
    "\n",
    "    # Find the table containing the list of U.S. presidents\n",
    "    table = soup.find('table', {'class': 'wikitable'})\n",
    "\n",
    "    # Initialize an empty list to store the data\n",
    "    data = []\n",
    "\n",
    "    # Iterate through rows in the table\n",
    "    for row in table.find_all('tr')[1:]:  # Skip the header row\n",
    "        columns = row.find_all(['td', 'th'])\n",
    "        president_data = [column.get_text(strip=True) for column in columns]\n",
    "        data.append(president_data)\n",
    "\n",
    "    # Define the filename for the JSON file\n",
    "    json_filename = \"presidents_data.json\"\n",
    "\n",
    "    # Save the data as JSON\n",
    "    with open(json_filename, 'w', encoding='utf-8') as json_file:\n",
    "        json.dump(data, json_file, ensure_ascii=False, indent=4)\n",
    "\n",
    "    print(f\"Data has been scraped and saved to {json_filename}\")\n",
    "else:\n",
    "    print(f\"Failed to retrieve the page. Status code: {response.status_code}\")\n"
   ]
  }
 ],
 "metadata": {
  "kernelspec": {
   "display_name": "datascience",
   "language": "python",
   "name": "python3"
  },
  "language_info": {
   "codemirror_mode": {
    "name": "ipython",
    "version": 3
   },
   "file_extension": ".py",
   "mimetype": "text/x-python",
   "name": "python",
   "nbconvert_exporter": "python",
   "pygments_lexer": "ipython3",
   "version": "3.8.18"
  }
 },
 "nbformat": 4,
 "nbformat_minor": 2
}
