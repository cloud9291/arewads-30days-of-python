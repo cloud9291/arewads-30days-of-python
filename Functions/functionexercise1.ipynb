{
 "cells": [
  {
   "cell_type": "code",
   "execution_count": 1,
   "metadata": {},
   "outputs": [
    {
     "name": "stdout",
     "output_type": "stream",
     "text": [
      "understanding of function and parameter passing\n"
     ]
    }
   ],
   "source": [
    "def displaymessage():\n",
    "    '''display learning outcomes'''\n",
    "    print('understanding of function and parameter passing')\n",
    "\n",
    "displaymessage()"
   ]
  },
  {
   "cell_type": "code",
   "execution_count": 2,
   "metadata": {},
   "outputs": [
    {
     "name": "stdout",
     "output_type": "stream",
     "text": [
      " One of my favorite books is Alice in Wonderland\n"
     ]
    }
   ],
   "source": [
    "def favourite_book(title):\n",
    "    '''displaying favorite book'''\n",
    "    print(f' One of my favorite books is {title} in Wonderland')\n",
    "\n",
    "favourite_book('Alice')"
   ]
  },
  {
   "cell_type": "code",
   "execution_count": 5,
   "metadata": {},
   "outputs": [
    {
     "name": "stdout",
     "output_type": "stream",
     "text": [
      "\n",
      "26\n",
      " Skiklls Rather Than Job.\n",
      "\n",
      "27\n",
      " Skills Rather Than Job.\n"
     ]
    }
   ],
   "source": [
    "def make_shirt(size, text_message):\n",
    "    \"\"\"Display information about a T-shirt.\"\"\"\n",
    "    print(f\"\\n{size}\")\n",
    "    print(f\" {text_message.title()}.\")\n",
    " \n",
    "make_shirt('26', 'skiklls rather than job')#positional argument\n",
    "make_shirt(size = 27, text_message='skills rather than job')#keyword argument"
   ]
  },
  {
   "cell_type": "code",
   "execution_count": 2,
   "metadata": {},
   "outputs": [
    {
     "name": "stdout",
     "output_type": "stream",
     "text": [
      "\n",
      "26\n",
      " I Love Python.\n",
      "\n",
      "24\n",
      " I Love Programming.\n"
     ]
    }
   ],
   "source": [
    "def make_shirt(size = '26' , text_message= 'i love python'):\n",
    "    \"\"\"Display information about a T-shirt.\"\"\"\n",
    "    print(f\"\\n{size}\")\n",
    "    print(f\" {text_message.title()}.\")\n",
    "\n",
    "make_shirt() \n",
    "make_shirt('24', 'i love programming')\n"
   ]
  },
  {
   "cell_type": "code",
   "execution_count": 3,
   "metadata": {},
   "outputs": [
    {
     "name": "stdout",
     "output_type": "stream",
     "text": [
      "libya is in Iceland\n",
      "jos is in Nigeria\n",
      "bostom is in London\n"
     ]
    }
   ],
   "source": [
    "def describe_city(city, country= 'Iceland'):\n",
    "    '''display city and country'''\n",
    "    print(f'{city} is in {country}')\n",
    "\n",
    "#function call with argument passing\n",
    "describe_city('libya')\n",
    "describe_city('jos','Nigeria')\n",
    "describe_city('bostom', 'London')\n",
    "\n",
    "\n"
   ]
  },
  {
   "cell_type": "code",
   "execution_count": 34,
   "metadata": {},
   "outputs": [
    {
     "name": "stdout",
     "output_type": "stream",
     "text": [
      "Satiago chile\n",
      "kano nigeria\n",
      "tokyo japan\n"
     ]
    }
   ],
   "source": [
    "def city_country(city_name, country_name):\n",
    "    '''return a city name and country name'''\n",
    "    name = f\"{city_name} {country_name}\"\n",
    "    return name\n",
    "\n",
    "location1 = city_country('Satiago', 'chile')\n",
    "location2= city_country('kano', 'nigeria')\n",
    "location3 = city_country('tokyo', 'japan')\n",
    "print(location1)\n",
    "print(location2)\n",
    "print(location3)\n"
   ]
  },
  {
   "cell_type": "code",
   "execution_count": 38,
   "metadata": {},
   "outputs": [
    {
     "name": "stdout",
     "output_type": "stream",
     "text": [
      "{'artist_name': 'wizkid', 'title_of_album': 'love of my life', 'songs': None}\n",
      "{'artist_name': 'maheer zain', 'title_of_album': 'in sha Allah', 'songs': None}\n",
      "{'artist_name': 'portable', 'title_of_album': 'lifes go on', 'songs': None}\n",
      "{'artist_name': 'mufti zain', 'title_of_album': 'struggle up', 'songs': 8}\n"
     ]
    }
   ],
   "source": [
    "def music_album(artist_name, album_title, number_of_songs=None):\n",
    "    '''dictionary displaying music album'''\n",
    "    album = {'artist_name':artist_name, 'title_of_album':album_title, 'songs':number_of_songs}\n",
    "    return album\n",
    "\n",
    "album1=music_album('wizkid', 'love of my life')\n",
    "album2=music_album('maheer zain', 'in sha Allah')\n",
    "album3=music_album('portable', 'lifes go on')\n",
    "album4=music_album('mufti zain', 'struggle up', 8)\n",
    "\n",
    "print(album1)\n",
    "print(album2)\n",
    "print(album3)\n",
    "print(album4)\n",
    "\n",
    "\n"
   ]
  },
  {
   "cell_type": "code",
   "execution_count": 42,
   "metadata": {},
   "outputs": [
    {
     "name": "stdout",
     "output_type": "stream",
     "text": [
      "\n",
      "Enter album name:\n",
      "(enter 'q' at any time to quit)\n",
      "\n",
      "Enter album name:\n",
      "(enter 'q' at any time to quit)\n",
      "\n",
      "Enter album name:\n",
      "(enter 'q' at any time to quit)\n",
      "\n",
      "Hello, {'artist_name': 'q', 'title_of_album': 'love of life', 'songs': None}!\n"
     ]
    }
   ],
   "source": [
    "def music_album(artist_name, album_title, number_of_songs=None):\n",
    "    '''dictionary displaying music album'''\n",
    "    album = {'artist_name':artist_name, 'title_of_album':album_title, 'songs':number_of_songs}\n",
    "    return album\n",
    "\n",
    "while True:\n",
    " print(\"\\nEnter album name:\")\n",
    " print(\"(enter 'q' at any time to quit)\")\n",
    " \n",
    " artist_name = input(\"enter artist name: \")\n",
    " if artist_name == 'q':\n",
    "    break\n",
    "\n",
    " album_title = input(\"enter album title: \")\n",
    " if album_title == 'q':\n",
    "    break\n",
    "\n",
    "make_album = music_album(artist_name, album_title)\n",
    "print(f\"\\nHello, {make_album}!\")\n",
    "\n",
    " \n"
   ]
  },
  {
   "cell_type": "code",
   "execution_count": 44,
   "metadata": {},
   "outputs": [
    {
     "name": "stdout",
     "output_type": "stream",
     "text": [
      "Hello, I Love U!\n",
      "Hello, I Hate U!\n",
      "Hello, Nice To Meet U!\n"
     ]
    }
   ],
   "source": [
    "def show_message(messages):\n",
    "    '''display message list'''\n",
    "    for message in messages:\n",
    "        msg = f\"Hello, {message.title()}!\"\n",
    "        print(msg)\n",
    "\n",
    "message_list = ['i love u', 'i hate u', 'nice to meet u']\n",
    "show_message(message_list)"
   ]
  },
  {
   "cell_type": "code",
   "execution_count": 54,
   "metadata": {},
   "outputs": [
    {
     "name": "stdout",
     "output_type": "stream",
     "text": [
      "Hello, I Love U!\n",
      "Hello, I Hate U!\n",
      "Hello, Nice To Meet U!\n",
      "\n",
      "Original Message List:\n",
      "['i love u', 'i hate u', 'nice to meet u']\n",
      "\n",
      "Sent Messages List:\n",
      "['i love u', 'i hate u', 'nice to meet u']\n"
     ]
    }
   ],
   "source": [
    "def send_messages(messages):\n",
    "    '''Display and move messages to the sent_messages list'''\n",
    "    sent_messages= []\n",
    "    for message in messages:\n",
    "        msg = f\"Hello, {message.title()}!\"\n",
    "        print(msg)\n",
    "        sent_messages.append(message)\n",
    "    return sent_messages\n",
    "\n",
    "message_list = ['i love u', 'i hate u', 'nice to meet u']\n",
    "sent_messages = send_messages(message_list)\n",
    "\n",
    "print(\"\\nOriginal Message List:\")\n",
    "print(message_list)\n",
    "\n",
    "print(\"\\nSent Messages List:\")\n",
    "print(sent_messages)\n"
   ]
  },
  {
   "cell_type": "code",
   "execution_count": 55,
   "metadata": {},
   "outputs": [
    {
     "name": "stdout",
     "output_type": "stream",
     "text": [
      "Hello, I Love U!\n",
      "Hello, I Hate U!\n",
      "Hello, Nice To Meet U!\n",
      "\n",
      "Original Message List:\n",
      "['i love u', 'i hate u', 'nice to meet u']\n",
      "\n",
      "Sent Messages List:\n",
      "['i love u', 'i hate u', 'nice to meet u']\n"
     ]
    }
   ],
   "source": [
    "def send_messages(messages):\n",
    "    '''Display and move messages to the sent_messages list'''\n",
    "    sent_messages = []  # Create an empty list to store sent messages\n",
    "    for message in messages:\n",
    "        msg = f\"Hello, {message.title()}!\"\n",
    "        print(msg)\n",
    "        sent_messages.append(message)  # Move the message to the sent_messages list\n",
    "    return sent_messages  # Return the list of sent messages\n",
    "\n",
    "# Original message list\n",
    "message_list = ['i love u', 'i hate u', 'nice to meet u']\n",
    "\n",
    "# Call the send_messages function with a copy of the list\n",
    "sent_messages = send_messages(message_list[:])\n",
    "\n",
    "print(\"\\nOriginal Message List:\")\n",
    "print(message_list)\n",
    "\n",
    "print(\"\\nSent Messages List:\")\n",
    "print(sent_messages)\n"
   ]
  },
  {
   "cell_type": "code",
   "execution_count": 56,
   "metadata": {},
   "outputs": [
    {
     "name": "stdout",
     "output_type": "stream",
     "text": [
      "('pepperoni',)\n",
      "('mushrooms', 'green peppers', 'extra cheese')\n",
      "('mushrooms', 'green peppers', 'extra cheese', 'egg', 'lettuce')\n"
     ]
    }
   ],
   "source": [
    "def make_sandwiches(*items_collection):\n",
    "    \"\"\"Print the list of toppings that have been requested.\"\"\"\n",
    "    print(items_collection)\n",
    " \n",
    "make_sandwiches('pepperoni')\n",
    "make_sandwiches('mushrooms', 'green peppers', 'extra cheese')\n",
    "make_sandwiches('mushrooms', 'green peppers', 'extra cheese', 'egg', 'lettuce')"
   ]
  },
  {
   "cell_type": "code",
   "execution_count": 60,
   "metadata": {},
   "outputs": [
    {
     "name": "stdout",
     "output_type": "stream",
     "text": [
      "{'location': 'kano', 'status': 'single', 'field': 'datascientist', 'first_name': 'Masud', 'last_name': 'Abdulyaqeen'}\n"
     ]
    }
   ],
   "source": [
    "def build_profile(first, last, **user_info):\n",
    "    \"\"\"Build a dictionary containing everything we know about a user.\"\"\"\n",
    "    user_info['first_name'] = first\n",
    "    user_info['last_name'] = last\n",
    "    return user_info\n",
    "\n",
    "user_profile = build_profile('Masud', 'Abdulyaqeen',\n",
    " location='kano',\n",
    " status = 'single',\n",
    " field='datascientist')\n",
    "print(user_profile)"
   ]
  },
  {
   "cell_type": "code",
   "execution_count": 64,
   "metadata": {},
   "outputs": [
    {
     "name": "stdout",
     "output_type": "stream",
     "text": [
      "{'color': 'Hash', 'type': 'Automatic', 'manufacture': 'subaru', 'model': 'camery1.2'}\n"
     ]
    }
   ],
   "source": [
    "def make_car(manufacture_name, model_name, **car_info):\n",
    "    \"\"\"Build a dictionary containing everything we know about a car.\"\"\"\n",
    "    car_info['manufacture'] = manufacture_name\n",
    "    car_info['model'] = model_name\n",
    "    return car_info\n",
    "user_car_info = make_car('subaru', 'camery1.2',color ='Hash',type ='Automatic')\n",
    "print(user_car_info)"
   ]
  }
 ],
 "metadata": {
  "kernelspec": {
   "display_name": "datascience",
   "language": "python",
   "name": "python3"
  },
  "language_info": {
   "codemirror_mode": {
    "name": "ipython",
    "version": 3
   },
   "file_extension": ".py",
   "mimetype": "text/x-python",
   "name": "python",
   "nbconvert_exporter": "python",
   "pygments_lexer": "ipython3",
   "version": "3.8.18"
  }
 },
 "nbformat": 4,
 "nbformat_minor": 2
}
